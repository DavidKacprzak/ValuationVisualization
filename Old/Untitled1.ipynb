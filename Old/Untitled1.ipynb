{
 "cells": [
  {
   "cell_type": "code",
   "execution_count": 2,
   "metadata": {},
   "outputs": [
    {
     "data": {
      "application/vnd.jupyter.widget-view+json": {
       "model_id": "2d0e8adab49e4e77833cfa60900d6610",
       "version_major": 2,
       "version_minor": 0
      },
      "text/plain": [
       "Dropdown(description='Select variable:', options=('var1', 'var2'), value='var1')"
      ]
     },
     "metadata": {},
     "output_type": "display_data"
    }
   ],
   "source": [
    "import ipywidgets as widgets\n",
    "from IPython.display import display, clear_output\n",
    "vardict = [\"var1\",\"var2\"]\n",
    "select_variable = widgets.Dropdown(\n",
    "    options=vardict,\n",
    "    value=vardict[0],\n",
    "    description='Select variable:',\n",
    "    disabled=False,\n",
    "    button_style=''\n",
    ")\n",
    "def get_and_plot(b):\n",
    "    clear_output\n",
    "    print(select_variable.value)\n",
    "\n",
    "display(select_variable)\n",
    "select_variable.observe(get_and_plot, names='value')"
   ]
  },
  {
   "cell_type": "code",
   "execution_count": null,
   "metadata": {},
   "outputs": [],
   "source": []
  }
 ],
 "metadata": {
  "kernelspec": {
   "display_name": "Python 3",
   "language": "python",
   "name": "python3"
  },
  "language_info": {
   "codemirror_mode": {
    "name": "ipython",
    "version": 3
   },
   "file_extension": ".py",
   "mimetype": "text/x-python",
   "name": "python",
   "nbconvert_exporter": "python",
   "pygments_lexer": "ipython3",
   "version": "3.7.7"
  }
 },
 "nbformat": 4,
 "nbformat_minor": 4
}
