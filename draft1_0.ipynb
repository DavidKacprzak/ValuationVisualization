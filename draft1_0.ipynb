{
 "cells": [
  {
   "cell_type": "markdown",
   "metadata": {},
   "source": [
    "# Valuation Visualization Analysis\n",
    "\n",
    "---\n"
   ]
  },
  {
   "cell_type": "markdown",
   "metadata": {},
   "source": [
    "## Using Financial Modeling Prep API\n",
    "\n",
    "https://financialmodelingprep.com/developer/docs/"
   ]
  },
  {
   "cell_type": "code",
   "execution_count": 18,
   "metadata": {},
   "outputs": [],
   "source": [
    "import requests\n",
    "import pandas as pd\n",
    "from dotenv import load_dotenv\n",
    "from pathlib import Path\n",
    "import os\n",
    "import time\n",
    "import json\n",
    "\n",
    "# TEST FOR BRANCHING\n",
    "# TEST RETURN\n",
    "\n",
    "#David\n",
    "#env_path = Path(r'C:\\Users\\david\\Dropbox\\Learning\\Northwestern\\Project1\\.env')\n",
    "#Marshall\n",
    "env_path = Path('/Users/marshallwolfe/Desktop') / '.env'\n",
    "#env_path = Path(r'C:\\Users\\Metin\\Documents\\nufintech\\.env')\n",
    "#Amrita\n",
    "#env_path = Path(r'C:\\Users\\Metin\\Documents\\nufintech\\.env')\n",
    "\n",
    "load_dotenv(env_path)\n",
    "api_key = os.getenv('FINANCIAL_MODELING_API_KEY')"
   ]
  },
  {
   "cell_type": "code",
   "execution_count": 20,
   "metadata": {},
   "outputs": [
    {
     "data": {
      "text/plain": [
       "True"
      ]
     },
     "execution_count": 20,
     "metadata": {},
     "output_type": "execute_result"
    }
   ],
   "source": [
    "# Confirm if load_dotenv worked. Remove this later!\n",
    "load_dotenv()"
   ]
  },
  {
   "cell_type": "code",
   "execution_count": 21,
   "metadata": {},
   "outputs": [],
   "source": [
    "ticker_path = Path('Resources/dow_tickers.csv')"
   ]
  },
  {
   "cell_type": "code",
   "execution_count": 28,
   "metadata": {},
   "outputs": [
    {
     "name": "stdout",
     "output_type": "stream",
     "text": [
      "{'Error Message': 'Limit Reach . Please upgrade your plan or visit our documentation for more details at https://financialmodelingprep.com/developer/docs/pricing '}\n"
     ]
    },
    {
     "ename": "KeyError",
     "evalue": "0",
     "output_type": "error",
     "traceback": [
      "\u001b[0;31m---------------------------------------------------------------------------\u001b[0m",
      "\u001b[0;31mKeyError\u001b[0m                                  Traceback (most recent call last)",
      "\u001b[0;32m<ipython-input-28-4ca7f8b63e79>\u001b[0m in \u001b[0;36m<module>\u001b[0;34m\u001b[0m\n\u001b[1;32m     21\u001b[0m     \u001b[0;32mfor\u001b[0m \u001b[0myear\u001b[0m \u001b[0;32min\u001b[0m \u001b[0mrange\u001b[0m\u001b[0;34m(\u001b[0m\u001b[0mi\u001b[0m\u001b[0;34m)\u001b[0m\u001b[0;34m:\u001b[0m\u001b[0;34m\u001b[0m\u001b[0;34m\u001b[0m\u001b[0m\n\u001b[1;32m     22\u001b[0m         \u001b[0mtickers\u001b[0m\u001b[0;34m.\u001b[0m\u001b[0mappend\u001b[0m\u001b[0;34m(\u001b[0m\u001b[0mticker_name\u001b[0m\u001b[0;34m)\u001b[0m\u001b[0;34m\u001b[0m\u001b[0;34m\u001b[0m\u001b[0m\n\u001b[0;32m---> 23\u001b[0;31m         \u001b[0mrevenue\u001b[0m\u001b[0;34m.\u001b[0m\u001b[0mappend\u001b[0m\u001b[0;34m(\u001b[0m\u001b[0mparsed\u001b[0m\u001b[0;34m[\u001b[0m\u001b[0myear\u001b[0m\u001b[0;34m]\u001b[0m\u001b[0;34m[\u001b[0m\u001b[0;34m'revenue'\u001b[0m\u001b[0;34m]\u001b[0m\u001b[0;34m)\u001b[0m\u001b[0;34m\u001b[0m\u001b[0;34m\u001b[0m\u001b[0m\n\u001b[0m\u001b[1;32m     24\u001b[0m         \u001b[0meps\u001b[0m\u001b[0;34m.\u001b[0m\u001b[0mappend\u001b[0m\u001b[0;34m(\u001b[0m\u001b[0mparsed\u001b[0m\u001b[0;34m[\u001b[0m\u001b[0myear\u001b[0m\u001b[0;34m]\u001b[0m\u001b[0;34m[\u001b[0m\u001b[0;34m'eps'\u001b[0m\u001b[0;34m]\u001b[0m\u001b[0;34m)\u001b[0m\u001b[0;34m\u001b[0m\u001b[0;34m\u001b[0m\u001b[0m\n\u001b[1;32m     25\u001b[0m         \u001b[0;31m# price.append(parsed[year]['price'])\u001b[0m\u001b[0;34m\u001b[0m\u001b[0;34m\u001b[0m\u001b[0;34m\u001b[0m\u001b[0m\n",
      "\u001b[0;31mKeyError\u001b[0m: 0"
     ]
    }
   ],
   "source": [
    "ticker_list_df = pd.read_csv(ticker_path, header=None)\n",
    "ticker_list = list(ticker_list_df[0].values)\n",
    "dow_df = pd.DataFrame()\n",
    "#tic = time.perf_counter() tracks how quickly it works\n",
    "tickers = []\n",
    "\n",
    "revenue = []\n",
    "eps = []\n",
    "price = []\n",
    "shares_outstanding = []\n",
    "#yoy_revenue_growth = []\n",
    "\n",
    "# for years in range(10):\n",
    "for ticker_name in ticker_list:\n",
    "    # i = 0\n",
    "    tickers.append(ticker_name)\n",
    "    url = f\"https://financialmodelingprep.com/api/v3/income-statement/{ticker_name}?&apikey={api_key}\"\n",
    "    parsed = json.loads(requests.get(url).content) #object we're getting\n",
    "    print(parsed)\n",
    "    i = len(parsed) if len(parsed) < 21 else 20\n",
    "    for year in range(i):\n",
    "        tickers.append(ticker_name)\n",
    "        revenue.append(parsed[year]['revenue'])\n",
    "        eps.append(parsed[year]['eps'])\n",
    "        # price.append(parsed[year]['price'])\n",
    "        shares_outstanding.append(parsed[year]['weightedAverageShsOut'])\n",
    "        "
   ]
  },
  {
   "cell_type": "code",
   "execution_count": 25,
   "metadata": {},
   "outputs": [
    {
     "name": "stdout",
     "output_type": "stream",
     "text": [
      "MMM\n",
      "AXP\n",
      "AAPL\n",
      "BA\n",
      "CAT\n",
      "CVX\n",
      "CSCO\n",
      "DOW\n",
      "XOM\n",
      "GS\n",
      "IBM\n",
      "INTC\n",
      "JNJ\n",
      "JPM\n",
      "MCD\n",
      "MRK\n",
      "MSFT\n",
      "NKE\n",
      "PFE\n",
      "PG\n",
      "RTX\n",
      "KO\n",
      "HD\n",
      "TRV\n",
      "DIS\n",
      "UNH\n",
      "VZ\n",
      "V\n",
      "WBA\n",
      "WMT\n",
      "MMM\n",
      "AXP\n",
      "AAPL\n",
      "BA\n",
      "CAT\n",
      "CVX\n",
      "CSCO\n",
      "DOW\n"
     ]
    },
    {
     "ename": "IndexError",
     "evalue": "list index out of range",
     "output_type": "error",
     "traceback": [
      "\u001b[0;31m---------------------------------------------------------------------------\u001b[0m",
      "\u001b[0;31mIndexError\u001b[0m                                Traceback (most recent call last)",
      "\u001b[0;32m<ipython-input-25-9a74dcaa6281>\u001b[0m in \u001b[0;36m<module>\u001b[0;34m\u001b[0m\n\u001b[1;32m      6\u001b[0m         \u001b[0mparsed\u001b[0m \u001b[0;34m=\u001b[0m \u001b[0mjson\u001b[0m\u001b[0;34m.\u001b[0m\u001b[0mloads\u001b[0m\u001b[0;34m(\u001b[0m\u001b[0mrequests\u001b[0m\u001b[0;34m.\u001b[0m\u001b[0mget\u001b[0m\u001b[0;34m(\u001b[0m\u001b[0murl\u001b[0m\u001b[0;34m)\u001b[0m\u001b[0;34m.\u001b[0m\u001b[0mcontent\u001b[0m\u001b[0;34m)\u001b[0m \u001b[0;31m#object we're getting\u001b[0m\u001b[0;34m\u001b[0m\u001b[0;34m\u001b[0m\u001b[0m\n\u001b[1;32m      7\u001b[0m         \u001b[0mprint\u001b[0m\u001b[0;34m(\u001b[0m\u001b[0mticker_name\u001b[0m\u001b[0;34m)\u001b[0m\u001b[0;34m\u001b[0m\u001b[0;34m\u001b[0m\u001b[0m\n\u001b[0;32m----> 8\u001b[0;31m         \u001b[0mrevenue\u001b[0m\u001b[0;34m.\u001b[0m\u001b[0mappend\u001b[0m\u001b[0;34m(\u001b[0m\u001b[0mparsed\u001b[0m\u001b[0;34m[\u001b[0m\u001b[0myears\u001b[0m\u001b[0;34m]\u001b[0m\u001b[0;34m[\u001b[0m\u001b[0;34m'revenue'\u001b[0m\u001b[0;34m]\u001b[0m\u001b[0;34m)\u001b[0m\u001b[0;34m\u001b[0m\u001b[0;34m\u001b[0m\u001b[0m\n\u001b[0m",
      "\u001b[0;31mIndexError\u001b[0m: list index out of range"
     ]
    }
   ],
   "source": [
    "for years in range(10):\n",
    "    for ticker_name in ticker_list:\n",
    "        tickers.append(ticker_name)\n",
    "        url = f\"https://financialmodelingprep.com/api/v3/income-statement/{ticker_name}?&apikey={api_key}\"\n",
    "        requests.get(url).content\n",
    "        parsed = json.loads(requests.get(url).content) #object we're getting\n",
    "        print(ticker_name)\n",
    "        revenue.append(parsed[years]['revenue'])"
   ]
  },
  {
   "cell_type": "code",
   "execution_count": 27,
   "metadata": {},
   "outputs": [],
   "source": [
    "url = f\"https://financialmodelingprep.com/api/v3/income-statement/{'AAPL'}?&apikey={api_key}\"\n",
    "requests.get(url).content\n",
    "parsed = json.loads(requests.get(url).content) #object we're getting"
   ]
  },
  {
   "cell_type": "code",
   "execution_count": 32,
   "metadata": {},
   "outputs": [
    {
     "data": {
      "text/plain": [
       "{'date': '2009-09-26',\n",
       " 'symbol': 'AAPL',\n",
       " 'fillingDate': '2009-10-27',\n",
       " 'acceptedDate': '2009-10-27 16:18:29',\n",
       " 'period': 'FY',\n",
       " 'revenue': 36537000000,\n",
       " 'costOfRevenue': 23397000000,\n",
       " 'grossProfit': 13140000000,\n",
       " 'grossProfitRatio': 0.3596354380491009,\n",
       " 'researchAndDevelopmentExpenses': 1333000000,\n",
       " 'generalAndAdministrativeExpenses': 4149000000,\n",
       " 'sellingAndMarketingExpenses': 0.0,\n",
       " 'otherExpenses': 326000000,\n",
       " 'operatingExpenses': 5482000000,\n",
       " 'costAndExpenses': 28879000000,\n",
       " 'interestExpense': 0.0,\n",
       " 'depreciationAndAmortization': 703000000,\n",
       " 'ebitda': 8361000000,\n",
       " 'ebitdaratio': 0.2288365218819279,\n",
       " 'operatingIncome': 7658000000,\n",
       " 'operatingIncomeRatio': 0.2095957522511427,\n",
       " 'totalOtherIncomeExpensesNet': 326000000,\n",
       " 'incomeBeforeTax': 7984000000,\n",
       " 'incomeBeforeTaxRatio': 0.21851821441278704,\n",
       " 'incomeTaxExpense': 2280000000,\n",
       " 'netIncome': 5704000000,\n",
       " 'netIncomeRatio': 0.15611571831294305,\n",
       " 'eps': 6.39,\n",
       " 'epsdiluted': 6.29,\n",
       " 'weightedAverageShsOut': 893016000,\n",
       " 'weightedAverageShsOutDil': 907005000,\n",
       " 'link': 'https://www.sec.gov/Archives/edgar/data/320193/000119312509214859/0001193125-09-214859-index.htm',\n",
       " 'finalLink': 'https://www.sec.gov/Archives/edgar/data/320193/000119312509214859/d10k.htm'}"
      ]
     },
     "execution_count": 32,
     "metadata": {},
     "output_type": "execute_result"
    }
   ],
   "source": [
    "parsed[10]"
   ]
  },
  {
   "cell_type": "code",
   "execution_count": 25,
   "metadata": {
    "scrolled": true
   },
   "outputs": [
    {
     "data": {
      "text/plain": [
       "[32136000000,\n",
       " 43556000000,\n",
       " 260174000000,\n",
       " 76559000000,\n",
       " 53800000000,\n",
       " 146516000000,\n",
       " 51904000000,\n",
       " 42951000000,\n",
       " 264938000000,\n",
       " 36546000000,\n",
       " 77147000000,\n",
       " 71965000000,\n",
       " 82059000000,\n",
       " 115627000000,\n",
       " 21076500000,\n",
       " 46840000000,\n",
       " 125843000000,\n",
       " 39117000000,\n",
       " 51750000000,\n",
       " 67684000000,\n",
       " 54004000000,\n",
       " 37266000000,\n",
       " 110225000000,\n",
       " 31581000000,\n",
       " 69570000000,\n",
       " 242155000000,\n",
       " 131868000000,\n",
       " 22977000000,\n",
       " 136866000000,\n",
       " 523964000000]"
      ]
     },
     "execution_count": 25,
     "metadata": {},
     "output_type": "execute_result"
    }
   ],
   "source": [
    "revenue"
   ]
  },
  {
   "cell_type": "code",
   "execution_count": 26,
   "metadata": {},
   "outputs": [
    {
     "data": {
      "text/html": [
       "<div>\n",
       "<style scoped>\n",
       "    .dataframe tbody tr th:only-of-type {\n",
       "        vertical-align: middle;\n",
       "    }\n",
       "\n",
       "    .dataframe tbody tr th {\n",
       "        vertical-align: top;\n",
       "    }\n",
       "\n",
       "    .dataframe thead th {\n",
       "        text-align: right;\n",
       "    }\n",
       "</style>\n",
       "<table border=\"1\" class=\"dataframe\">\n",
       "  <thead>\n",
       "    <tr style=\"text-align: right;\">\n",
       "      <th></th>\n",
       "    </tr>\n",
       "  </thead>\n",
       "  <tbody>\n",
       "  </tbody>\n",
       "</table>\n",
       "</div>"
      ],
      "text/plain": [
       "Empty DataFrame\n",
       "Columns: []\n",
       "Index: []"
      ]
     },
     "execution_count": 26,
     "metadata": {},
     "output_type": "execute_result"
    }
   ],
   "source": [
    "dow_df"
   ]
  },
  {
   "cell_type": "code",
   "execution_count": null,
   "metadata": {},
   "outputs": [],
   "source": [
    "tic = time.perf_counter()\n",
    "\n",
    "for ticker_name in ticker_list:\n",
    "    tickers.append(ticker_name)\n",
    "    #ticker = yf.Ticker(ticker_name)\n",
    "    #dividends = ticker.dividends\n",
    "    #previos_div.append(dividends[-2])\n",
    "    #last_div.append(dividends[-1])\n",
    "    #try:\n",
    "    #    sectors.append(ticker.info['sector'])\n",
    "    #except:\n",
    "    #    sectors.append(np.nan)\n",
    "    url = f\"https://financialmodelingprep.com/api/v3/ratios/{ticker_name}?&apikey={api_key}\"\n",
    "    requests.get(url).content\n",
    "    parsed = json.loads(requests.get(url).content)\n",
    "    cashFlowToDebtRatio.append(parsed[0]['cashFlowToDebtRatio'])\n",
    "#change = [round(100*((a - b)/b),2) for a, b in zip(last_div, previos_div)]\n",
    "dict1 = {'Ticker': tickers, 'CashFlowToDebtRatio': cashFlowToDebtRatio}\n",
    "div_changes_temp = pd.DataFrame(dict1)\n",
    "div_changes = pd.concat([div_changes,div_changes_temp])\n",
    "#div_cuts.to_csv('div_changes.csv')\n",
    "toc = time.perf_counter()\n",
    "print(f\"Created the table in {(toc - tic)/60:0.2f} minutes\")"
   ]
  }
 ],
 "metadata": {
  "kernelspec": {
   "display_name": "Python 3",
   "language": "python",
   "name": "python3"
  },
  "language_info": {
   "codemirror_mode": {
    "name": "ipython",
    "version": 3
   },
   "file_extension": ".py",
   "mimetype": "text/x-python",
   "name": "python",
   "nbconvert_exporter": "python",
   "pygments_lexer": "ipython3",
   "version": "3.7.7"
  }
 },
 "nbformat": 4,
 "nbformat_minor": 4
}
